{
 "cells": [
  {
   "cell_type": "markdown",
   "metadata": {},
   "source": [
    "### datatypeconversions    \n",
    "- int()\n",
    "    -  int() converts the input into int class\n",
    "     -  str() converts the input into string class\n",
    "     -  float() converts the input into float class\n",
    "   "
   ]
  },
  {
   "cell_type": "code",
   "execution_count": 3,
   "metadata": {},
   "outputs": [
    {
     "name": "stdout",
     "output_type": "stream",
     "text": [
      "3.4\n",
      "<class 'float'>\n",
      "3\n",
      "<class 'int'>\n"
     ]
    }
   ],
   "source": [
    "f=3.4\n",
    "print(f)\n",
    "print(type(f))\n",
    "x=int(f)\n",
    "print(x)\n",
    "print(type(x))"
   ]
  },
  {
   "cell_type": "code",
   "execution_count": 4,
   "metadata": {},
   "outputs": [
    {
     "name": "stdout",
     "output_type": "stream",
     "text": [
      "25.78<class 'str'>\n",
      "25.78<class 'float'>\n",
      "25<class 'int'>\n"
     ]
    }
   ],
   "source": [
    "x='25.78'\n",
    "print(x,end ='')\n",
    "print(type(x))\n",
    "a=float(x)\n",
    "print(a,end = '')\n",
    "print(type(a))\n",
    "b=int(a)\n",
    "print(b,end ='')\n",
    "print(type(b))"
   ]
  },
  {
   "cell_type": "markdown",
   "metadata": {},
   "source": [
    "### input methods of python\n",
    "- input() reads the input term of string type\n",
    "- you the conversion methods of converts into the respective type\n",
    "- like int() float() str()"
   ]
  },
  {
   "cell_type": "code",
   "execution_count": 5,
   "metadata": {},
   "outputs": [
    {
     "name": "stdout",
     "output_type": "stream",
     "text": [
      "enter your namekhadir\n",
      "khadir\n",
      "<class 'str'>\n"
     ]
    }
   ],
   "source": [
    "s=input('enter your name')\n",
    "print(s)\n",
    "print(type(s))"
   ]
  },
  {
   "cell_type": "code",
   "execution_count": 7,
   "metadata": {},
   "outputs": [
    {
     "name": "stdout",
     "output_type": "stream",
     "text": [
      "12\n",
      "12<class 'int'>\n"
     ]
    }
   ],
   "source": [
    "a=int(input(''))\n",
    "print(a,end = '')\n",
    "print(type(a))"
   ]
  },
  {
   "cell_type": "markdown",
   "metadata": {},
   "source": [
    "### control flow statements\n",
    "- conditional statements\n",
    " - if-else\n",
    "- looping statements\n",
    " - while\n",
    " - for"
   ]
  },
  {
   "cell_type": "code",
   "execution_count": 18,
   "metadata": {},
   "outputs": [],
   "source": [
    "# and or not are the operators used\n",
    "#if boolean_condition:\n",
    "# statements\n",
    "#else:\n",
    "#   statements\n"
   ]
  },
  {
   "cell_type": "code",
   "execution_count": 10,
   "metadata": {},
   "outputs": [
    {
     "name": "stdout",
     "output_type": "stream",
     "text": [
      "12\n",
      "even number\n"
     ]
    }
   ],
   "source": [
    "#read the number as input\n",
    "#give the output as odd or even\n",
    "a=int(input(''))\n",
    "if a%2==0:\n",
    "    print(\"even number\")\n",
    "else:\n",
    "    print(\"odd number\")"
   ]
  },
  {
   "cell_type": "code",
   "execution_count": 16,
   "metadata": {},
   "outputs": [
    {
     "name": "stdout",
     "output_type": "stream",
     "text": [
      "enter the age of the person18\n",
      "eligible for voting\n"
     ]
    }
   ],
   "source": [
    "a=int(input('enter the age of the person'))\n",
    "if 18<=a<=85:\n",
    "    print(\"eligible for voting\")\n",
    "else:\n",
    "    \n",
    "    print(\"not eligible for voting\")"
   ]
  },
  {
   "cell_type": "code",
   "execution_count": null,
   "metadata": {},
   "outputs": [],
   "source": [
    "if (a>=18 and a<=85)"
   ]
  },
  {
   "cell_type": "code",
   "execution_count": 17,
   "metadata": {},
   "outputs": [
    {
     "name": "stdout",
     "output_type": "stream",
     "text": [
      "3.3333333333333335\n",
      "3\n",
      "1\n",
      "100\n",
      "10000000000\n"
     ]
    }
   ],
   "source": [
    "a=10\n",
    "b=3\n",
    "print(a/b) #division but output is decimal value\n",
    "print(a//b) #division but output is only integer value\n",
    "print(a%b) #modular division output is reaminder \n",
    "print(a*10) # * means multiplication\n",
    "print(a**10) # ** means power"
   ]
  },
  {
   "cell_type": "code",
   "execution_count": 20,
   "metadata": {},
   "outputs": [
    {
     "name": "stdout",
     "output_type": "stream",
     "text": [
      "enter the first number1 \n",
      "enter the second number2\n",
      "1\n"
     ]
    }
   ],
   "source": [
    "a=int(input('enter the first number'))\n",
    "b=int(input('enter the second number'))\n",
    "if a>b:\n",
    "    print(b*b)\n",
    "else:\n",
    "    print(a*a)"
   ]
  },
  {
   "cell_type": "code",
   "execution_count": 26,
   "metadata": {},
   "outputs": [
    {
     "name": "stdout",
     "output_type": "stream",
     "text": [
      "enter the number0\n",
      "zero\n"
     ]
    }
   ],
   "source": [
    "# read the number as input\n",
    "# give the output as negative,positive or zero\n",
    "a=int(input('enter the number'))\n",
    "if a>0:\n",
    "    print('positive')\n",
    "elif a<0:\n",
    "    print('negative')\n",
    "elif a==0:\n",
    "    print('zero')\n",
    "    \n",
    "\n",
    "    \n",
    "    "
   ]
  },
  {
   "cell_type": "code",
   "execution_count": 27,
   "metadata": {},
   "outputs": [
    {
     "name": "stdout",
     "output_type": "stream",
     "text": [
      "good\n"
     ]
    }
   ],
   "source": [
    "a=100\n",
    "if a>10:\n",
    "    print('good')\n",
    "elif a>20:\n",
    "    print('better')"
   ]
  },
  {
   "cell_type": "code",
   "execution_count": 28,
   "metadata": {},
   "outputs": [],
   "source": [
    "# ++ and -- will not work in python programming\n",
    "#while boolean condition:\n",
    "#     statements\n"
   ]
  },
  {
   "cell_type": "code",
   "execution_count": null,
   "metadata": {},
   "outputs": [],
   "source": [
    "# print the numbers fron 1 to 10\n",
    "a=1\n",
    "while a<=10:\n",
    "    print(a,end = ' ')\n",
    "    a+=1"
   ]
  },
  {
   "cell_type": "code",
   "execution_count": 3,
   "metadata": {},
   "outputs": [
    {
     "name": "stdout",
     "output_type": "stream",
     "text": [
      "enter the number5\n",
      "15\n"
     ]
    }
   ],
   "source": [
    "# read the n as input\n",
    "# print the sum of n natural numbers\n",
    "# 5 -- 15(1+2+3+4+5)\n",
    "n=int(input('enter the number'))\n",
    "a=1\n",
    "s=0\n",
    "while a<=n:\n",
    "    s=s+a\n",
    "    a=a+1\n",
    "print(s)"
   ]
  },
  {
   "cell_type": "code",
   "execution_count": 2,
   "metadata": {},
   "outputs": [
    {
     "name": "stdout",
     "output_type": "stream",
     "text": [
      "enter the number10\n",
      "2\n",
      "4\n",
      "6\n",
      "8\n",
      "10\n"
     ]
    }
   ],
   "source": [
    "# read the input as n\n",
    "# print the only even numbers between 1 to n\n",
    "# 10 -- 2 4 6 8 10\n",
    "n=int(input('enter the number'))\n",
    "a=1\n",
    "while a<=n:\n",
    "    if a % 2 == 0:\n",
    "        print(a)\n",
    "    a=a+1\n",
    "        "
   ]
  },
  {
   "cell_type": "code",
   "execution_count": 3,
   "metadata": {},
   "outputs": [
    {
     "name": "stdout",
     "output_type": "stream",
     "text": [
      "enter the number24\n",
      "1\n",
      "2\n",
      "3\n",
      "4\n",
      "6\n",
      "8\n",
      "12\n",
      "24\n"
     ]
    }
   ],
   "source": [
    "# read the input as n \n",
    "# print the factors / divisors of the number N\n",
    "# 6- 1 2 3 6 \n",
    "# 12-1 2 3 4 6 8 12\n",
    "# 24-1 2 3 4 6 8 12 24\n",
    "n=int(input('enter the number'))\n",
    "a=1\n",
    "while a<=n:\n",
    "    if n%a==0:\n",
    "        print(a)\n",
    "    a=a+1    "
   ]
  },
  {
   "cell_type": "code",
   "execution_count": null,
   "metadata": {},
   "outputs": [],
   "source": []
  }
 ],
 "metadata": {
  "kernelspec": {
   "display_name": "Python 3",
   "language": "python",
   "name": "python3"
  },
  "language_info": {
   "codemirror_mode": {
    "name": "ipython",
    "version": 3
   },
   "file_extension": ".py",
   "mimetype": "text/x-python",
   "name": "python",
   "nbconvert_exporter": "python",
   "pygments_lexer": "ipython3",
   "version": "3.7.3"
  }
 },
 "nbformat": 4,
 "nbformat_minor": 2
}
